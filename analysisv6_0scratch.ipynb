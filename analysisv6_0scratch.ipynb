{
 "cells": [
  {
   "cell_type": "markdown",
   "id": "0b43ceb6",
   "metadata": {},
   "source": [
    "### Analysis code snippets for preprocessed h5 files\n",
    "\n",
    "Organized as follows:\n",
    "1. Select runs and filter based on number of hits, including choosing ions, electron and/or photon data\n",
    "2. Filter based on pulse number\n",
    "3. Calibrate runs for m/q values\n",
    "4. Heatmap and electron time of flight plots\n",
    "5. Fish plots\n",
    "6. Intensity dependent plots including into time of flight plots, waterfall plots and heatmaps\n",
    "7. Presentation plots including fish plot, heatmaps, electron and ion data\n",
    "8. Covariances between ion data and between ion and electron data\n",
    "9. PNCCD photon data"
   ]
  },
  {
   "cell_type": "code",
   "execution_count": null,
   "id": "308a173f",
   "metadata": {
    "vscode": {
     "languageId": "plaintext"
    }
   },
   "outputs": [],
   "source": [
    "Need to install reading methods the first time:\n",
    "\n",
    "pip install --user tables   ### to read dataframe\n",
    "pip install h5netcdf        ### to read xarrays"
   ]
  },
  {
   "cell_type": "markdown",
   "id": "e87da59e",
   "metadata": {},
   "source": [
    "# Imports and functions"
   ]
  },
  {
   "cell_type": "code",
   "execution_count": null,
   "id": "df658959",
   "metadata": {
    "vscode": {
     "languageId": "plaintext"
    }
   },
   "outputs": [],
   "source": [
    "import numpy as np\n",
    "import pandas as pd\n",
    "import xarray as xr\n",
    "import seaborn as sns\n",
    "import matplotlib.pyplot as plt\n",
    "from matplotlib.colors import LogNorm\n",
    "from scipy.optimize import curve_fit\n",
    "from scipy.ndimage import gaussian_filter"
   ]
  }
 ],
 "metadata": {
  "language_info": {
   "name": "python"
  }
 },
 "nbformat": 4,
 "nbformat_minor": 5
}
