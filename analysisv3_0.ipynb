{
 "cells": [
  {
   "cell_type": "markdown",
   "id": "7d840aea",
   "metadata": {},
   "source": [
    "Implemented hit selection, events scatter, ion heatmap, electrons time of flight, ions time of flight, merging multiple runs, spatial selection view, calibration choice of lines with corresponding zoomed-in views, calibration curve fit and apply with mq column\n",
    "\n",
    "Additions:\n",
    "+ make multiple threshold selections\n",
    "+ spatial selection view with angle\n",
    "+ fish plots\n",
    "+ binning by number of events\n",
    "+ choose appropriate binning for mq and ion tof\n",
    "+ background with multiple runs downsampled to selected number of pulses\n",
    "+ waterfall plots\n",
    "+ heatmaps for binned number of events"
   ]
  },
  {
   "cell_type": "markdown",
   "id": "04956770",
   "metadata": {},
   "source": [
    "# Imports and functions"
   ]
  },
  {
   "cell_type": "code",
   "execution_count": null,
   "id": "c7217c17",
   "metadata": {
    "vscode": {
     "languageId": "plaintext"
    }
   },
   "outputs": [],
   "source": [
    "import numpy as np\n",
    "import pandas as pd\n",
    "import xarray as xr\n",
    "import seaborn as sns\n",
    "import matplotlib.pyplot as plt\n",
    "from matplotlib.colors import LogNorm\n",
    "from scipy.optimize import curve_fit\n",
    "from scipy.ndimage import gaussian_filter"
   ]
  }
 ],
 "metadata": {
  "language_info": {
   "name": "python"
  }
 },
 "nbformat": 4,
 "nbformat_minor": 5
}
