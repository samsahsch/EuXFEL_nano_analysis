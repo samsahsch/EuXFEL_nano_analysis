{
 "cells": [
  {
   "cell_type": "markdown",
   "id": "b4edf46a",
   "metadata": {},
   "source": [
    "Implemented hit selection, events scatter, ion heatmap, electrons time of flight and ions time of flight\n",
    "\n",
    "Additions:\n",
    "+ merging multiple runs\n",
    "+ spatial selection view\n",
    "+ calibration choice of lines with corresponding zoomed-in views\n",
    "+ calibration curve fit and apply with mq column"
   ]
  },
  {
   "cell_type": "markdown",
   "id": "5d7cad64",
   "metadata": {},
   "source": [
    "# Imports and functions"
   ]
  },
  {
   "cell_type": "code",
   "execution_count": null,
   "id": "88683a05",
   "metadata": {},
   "outputs": [],
   "source": [
    "import pandas as pd\n",
    "import xarray as xr\n",
    "import seaborn as sns\n",
    "import matplotlib.pyplot as plt\n",
    "import numpy as np\n",
    "from scipy.optimize import curve_fit\n",
    "#import ipywidgets as widgets\n",
    "#from IPython.display import display"
   ]
  },
  {
   "cell_type": "code",
   "execution_count": null,
   "id": "5020ecfa",
   "metadata": {},
   "outputs": [],
   "source": []
  }
 ],
 "metadata": {
  "kernelspec": {
   "display_name": "Python 3",
   "language": "python",
   "name": "python3"
  },
  "language_info": {
   "name": "python",
   "version": "3.13.0"
  }
 },
 "nbformat": 4,
 "nbformat_minor": 5
}
