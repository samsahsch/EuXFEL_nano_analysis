{
 "cells": [
  {
   "cell_type": "markdown",
   "id": "cedccf9d",
   "metadata": {},
   "source": [
    "Implemented hit selection, events scatter, ion heatmap, electrons time of flight and ions time of flight"
   ]
  },
  {
   "cell_type": "markdown",
   "id": "5debf03c",
   "metadata": {},
   "source": [
    "### Imports and functions"
   ]
  },
  {
   "cell_type": "code",
   "execution_count": 1,
   "id": "c385e750",
   "metadata": {},
   "outputs": [
    {
     "ename": "LoadError",
     "evalue": "ArgumentError: Package pandas not found in current path.\n- Run `import Pkg; Pkg.add(\"pandas\")` to install the pandas package.",
     "output_type": "error",
     "traceback": [
      "ArgumentError: Package pandas not found in current path.\n- Run `import Pkg; Pkg.add(\"pandas\")` to install the pandas package.",
      "",
      "Stacktrace:",
      " [1] macro expansion",
      "   @ ./loading.jl:1772 [inlined]",
      " [2] macro expansion",
      "   @ ./lock.jl:267 [inlined]",
      " [3] __require(into::Module, mod::Symbol)",
      "   @ Base ./loading.jl:1753",
      " [4] #invoke_in_world#3",
      "   @ ./essentials.jl:926 [inlined]",
      " [5] invoke_in_world",
      "   @ ./essentials.jl:923 [inlined]",
      " [6] require(into::Module, mod::Symbol)",
      "   @ Base ./loading.jl:1746"
     ]
    }
   ],
   "source": [
    "import pandas as pd\n",
    "import xarray as xr\n",
    "import seaborn as sns\n",
    "import matplotlib.pyplot as plt\n",
    "import numpy as np"
   ]
  },
  {
   "cell_type": "code",
   "execution_count": null,
   "id": "59844140",
   "metadata": {},
   "outputs": [],
   "source": [
    "def events_selection_plots(runs,lower_threshold,upper_threshold):\n",
    "    'Runs functions events_selection, heatmap, e_tof, ion_tof'\n",
    "    \n",
    "    selected_dfevent, selected_dfpulse, selected_etof = events_selection(runs,lower_threshold,upper_threshold)\n",
    "    heatmap(selected_dfevent)\n",
    "    e_tof(selected_etof)\n",
    "    ion_tof(selected_dfevent)\n",
    "    \n",
    "    return selected_dfevent, selected_dfpulse, selected_etof\n",
    "\n",
    "\n",
    "\n",
    "def events_selection(runs,lower_threshold,upper_threshold):\n",
    "    'Reads one run from h5 files'\n",
    "    'Makes a pulse selection based on the number of events per pulse between the defined thresholds'\n",
    "    \n",
    "    dfevent, dfpulse, etof, pnccd = read(runs)\n",
    "    \n",
    "    selected_dfpulse = dfpulse[lower_threshold < dfpulse.nevents_pulse][dfpulse.nevents_pulse < upper_threshold]\n",
    "    selected_dfevent = dfevent[dfevent.pulseId.isin(selected_dfpulse.pulseId)]\n",
    "    selected_etof = etof.sel(pulseId=etof.coords['pulseId'].isin(selected_dfpulse.pulseId))\n",
    "    \n",
    "    plt.figure()\n",
    "    plt.scatter(dfpulse.pulseId,dfpulse.nevents_pulse,label='All pulses')\n",
    "    plt.scatter(selected_dfpulse.pulseId,selected_dfpulse.nevents_pulse,c='r',label='Selected pulses')\n",
    "    plt.xlabel('Pulse ID')\n",
    "    plt.ylabel('Number of events per pulse')\n",
    "    plt.legend()\n",
    "    plt.title('Events per pulse with respect to pulse ID')\n",
    "    plt.show()\n",
    "    \n",
    "    return selected_dfevent, selected_dfpulse, selected_etof\n",
    "\n",
    "\n",
    "\n",
    "def events_backgrd(runs,lower_backgrd_threshold,upper_backgrd_threshold):\n",
    "    'Reads one or multiple runs from h5 files'\n",
    "    'Makes a pulse selection based on the number of events per pulse between the background defined thresholds'\n",
    "    'If multiple runs are passed, will merge the runs, once hit selected'\n",
    "    \n",
    "    dfevent, dfpulse, etof, pnccd = read(runs)\n",
    "    \n",
    "    backgrd_dfpulse = dfpulse[lower_backgrd_threshold < dfpulse.nevents_pulse][dfpulse.nevents_pulse < upper_backgrd_threshold]\n",
    "    backgrd_dfevent = dfevent[dfevent.pulseId.isin(backgrd_dfpulse.pulseId)]\n",
    "    backgrd_etof = etof.sel(pulseId=etof.coords['pulseId'].isin(backgrd_dfpulse.pulseId))\n",
    "    \n",
    "    plt.figure()\n",
    "    plt.scatter(dfpulse.pulseId,dfpulse.nevents_pulse,label='All pulses')\n",
    "    plt.scatter(backgrd_dfpulse.pulseId,backgrd_dfpulse.nevents_pulse,c='g',label='Backgrounds pulses')\n",
    "    plt.xlabel('Pulse ID')\n",
    "    plt.ylabel('Number of events per pulse')\n",
    "    plt.legend()\n",
    "    plt.title('Events per pulse with respect to pulse ID')\n",
    "    plt.show()\n",
    "    \n",
    "    return backgrd_dfevent, backgrd_dfpulse, backgrd_etof\n",
    "\n",
    "\n",
    "\n",
    "def read(runid):\n",
    "    'Read the preprocessed data of run with ID runid saved in the h5 file with a corresponding name'\n",
    "    'Outputs dataframes per event, per pulse, and xarrays etof, pnccd in that order'\n",
    "    \n",
    "    filename = '../preprocess/datarun' + str(runid) + '.h5'\n",
    "    \n",
    "    dfevent = pd.read_hdf(filename, 'dfevent')\n",
    "    dfpulse = pd.read_hdf(filename, 'dfpulse')\n",
    "    \n",
    "    etof = xr.open_dataarray(filename, group=\"etof\")\n",
    "    pnccd = xr.open_dataarray(filename, group=\"pnccd\")\n",
    "    \n",
    "    return dfevent, dfpulse, etof, pnccd\n",
    "\n",
    "\n",
    "\n",
    "def heatmap(dfevent):\n",
    "    'Creates heatmap of the ions hits, based on a dfevent dataframe'\n",
    "    \n",
    "    counts_df = dfevent.groupby(['x', 'y']).size().reset_index(name='count')\n",
    "    heatmap_data = counts_df.pivot(index='y', columns='x', values='count')\n",
    "    \n",
    "    plt.figure()\n",
    "    sns.heatmap(heatmap_data, cmap='viridis',cbar_kws={'label': 'Number of events'})\n",
    "    plt.title('Ion heatmap')\n",
    "    plt.show()\n",
    "    \n",
    "    \n",
    "    \n",
    "def e_tof(etof):\n",
    "    'Plots electron time of flight data using etof xarray data'\n",
    "    \n",
    "    TIME_BETWEEN_PULSES = 3.54462e-6\n",
    "    CHANNELS_PER_PULSE = 14080\n",
    "    channel_time = TIME_BETWEEN_PULSES/CHANNELS_PER_PULSE\n",
    "    \n",
    "    xaxis = np.arange(14080)*channel_time\n",
    "    avg_selected_etof = -np.mean(etof, axis=0)\n",
    "    \n",
    "    plt.figure()\n",
    "    plt.plot(xaxis,avg_selected_etof/max(avg_selected_etof))\n",
    "    plt.xlabel('Time of flight (s)')\n",
    "    plt.ylabel('Normalized signal')\n",
    "    plt.title('Electrons time of flight')\n",
    "    plt.show()\n",
    "    \n",
    "    \n",
    "    \n",
    "def ion_tof(dfevent):\n",
    "    'Plots ion time of flight data using dfevent dataframe'\n",
    "    \n",
    "    hist, bin_edges = np.histogram(dfevent.tof, bins=250000)\n",
    "    hist1 = hist[:1500]\n",
    "    bin_edges1 = bin_edges[:1501]\n",
    "    \n",
    "    plt.figure()\n",
    "    plt.plot(bin_edges1[:-1], hist1)\n",
    "    plt.xlabel('Time of flight (s)')\n",
    "    plt.ylabel('Number of hits per bin')\n",
    "    plt.title('Ions time of flight')\n",
    "    plt.show()\n",
    "    \n",
    "    \n",
    "    \n",
    "def calibrate(selected_dfevent,backgrd_dfevent):\n",
    "    'Uses calibration of GUI and outputs dfevent dataframe with m/q column'\n",
    "    \n",
    "    calibrated_selected_dfevent = selected_dfevent\n",
    "    calibrated_selected_dfevent['mq'] = 4e6**2 * selected_dfevent.tof ** 2.03\n",
    "    \n",
    "    calibrated_backgrd_dfevent = backgrd_dfevent\n",
    "    calibrated_backgrd_dfevent['mq'] = 4e6**2 * backgrd_dfevent.tof ** 2.03\n",
    "    \n",
    "    return calibrated_selected_dfevent, calibrated_backgrd_dfevent\n",
    "\n",
    "\n",
    "\n",
    "def square_spatial_ion_selection(dfevent,dfpulse,etof,xstart,width,ystart,height):\n",
    "    'Square selection from the heatmap using spatial coordinates. Returns spatially selected dfevent,dfpulse,etof.'\n",
    "    \n",
    "    spatial_selected_dfevent = dfevent[dfevent.x > xstart][dfevent.x < xstart+width][dfevent.y > ystart][dfevent.y < ystart+height]\n",
    "    spatial_selected_dfpulse = dfpulse[dfpulse.pulseId.isin(spatial_selected_dfevent.pulseId)]\n",
    "    spatial_selected_etof = etof.sel(pulseId=etof.coords['pulseId'].isin(spatial_selected_dfevent.pulseId))\n",
    "    \n",
    "    return spatial_selected_dfevent,spatial_selected_dfpulse,spatial_selected_etof\n",
    "\n",
    "\n",
    "\n",
    "def mq_selection(calibrated_dfevent,dfpulse,etof,lower_mq,upper_mq):\n",
    "    'Selects based on m/q values. Need to input calibrated_dfevent! Returns m/q selected dfevent,dfpulse,etof.'\n",
    "    \n",
    "    mqselected_dfevent = calibrated_dfevent[lower_mq < calibrated_dfevent.mq][calibrated_dfevent.mq < upper_mq]\n",
    "    mqselected_dfpulse = dfpulse[dfpulse.pulseId.isin(mqselected_dfevent.pulseId)]\n",
    "    mqselected_etof = etof.sel(pulseId=etof.coords['pulseId'].isin(mqselected_dfevent.pulseId))\n",
    "    \n",
    "    return mqselected_dfevent,mqselected_dfpulse,mqselected_etof"
   ]
  },
  {
   "cell_type": "markdown",
   "id": "265ec1a1",
   "metadata": {},
   "source": [
    "# Analysis"
   ]
  },
  {
   "cell_type": "code",
   "execution_count": 2,
   "id": "64a55867",
   "metadata": {},
   "outputs": [
    {
     "data": {
      "text/plain": [
       "390"
      ]
     },
     "execution_count": 2,
     "metadata": {},
     "output_type": "execute_result"
    }
   ],
   "source": [
    "RUNID = 390"
   ]
  },
  {
   "cell_type": "code",
   "execution_count": 3,
   "id": "660d3a4f",
   "metadata": {},
   "outputs": [
    {
     "ename": "LoadError",
     "evalue": "UndefVarError: `events_selection_plots` not defined",
     "output_type": "error",
     "traceback": [
      "UndefVarError: `events_selection_plots` not defined",
      "",
      "Stacktrace:",
      " [1] top-level scope",
      "   @ In[3]:3"
     ]
    }
   ],
   "source": [
    "LOWER_BOUND = 2000\n",
    "UPPER_BOUND = 8000\n",
    "selected_dfevent, selected_dfpulse, selected_etof = events_selection_plots(RUNID,LOWER_BOUND,UPPER_BOUND)"
   ]
  },
  {
   "cell_type": "code",
   "execution_count": null,
   "id": "bed14663",
   "metadata": {},
   "outputs": [],
   "source": [
    "LOWER_BACKGRD_BOUND = 20\n",
    "UPPER_BACKGRD_BOUND = 40\n",
    "\n",
    "backgrd_dfevent, backgrd_dfpulse, backgrd_etof = events_backgrd(RUNID,LOWER_BACKGRD_BOUND,UPPER_BACKGRD_BOUND)"
   ]
  }
 ],
 "metadata": {
  "kernelspec": {
   "display_name": "Julia 1.10.4",
   "language": "julia",
   "name": "julia-1.10"
  },
  "language_info": {
   "file_extension": ".jl",
   "mimetype": "application/julia",
   "name": "julia",
   "version": "1.10.4"
  }
 },
 "nbformat": 4,
 "nbformat_minor": 5
}
